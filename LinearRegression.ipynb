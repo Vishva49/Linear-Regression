{
 "cells": [
  {
   "cell_type": "code",
   "execution_count": 8,
   "id": "53e47285",
   "metadata": {},
   "outputs": [],
   "source": [
    "import numpy as np\n",
    "import matplotlib.pyplot as plt\n",
    "import pandas as pd\n",
    "class UnivariateLinearRegression:\n",
    "    \n",
    "    def __init__(self,filename,alpha,iters):\n",
    "        \n",
    "        self.filename = filename\n",
    "        print(self.filename)\n",
    "        self.alpha = alpha\n",
    "        self.iters = iters\n",
    "        self.data = pd.read_csv(filename)\n",
    "        print(self.data)\n",
    "        self.colname1 = self.data.keys()[0]\n",
    "        print(self.colname1)\n",
    "        self.colname2 = self.data.keys()[1]\n",
    "        print(self.colname2)\n",
    "        self.x_train = np.array(self.data[self.colname1])\n",
    "        self.y_train = np.array(self.data[self.colname2])\n",
    "        print(self.x_train)\n",
    "        print(self.y_train)\n",
    "        self.m = self.x_train.shape\n",
    "        print(self.m)\n",
    "        self.w = 0\n",
    "        self.b = 0\n",
    "        self.gradientDescent()\n",
    "        \n",
    "    def compute_gradient(self):\n",
    "        \n",
    "        dj_dw = 0\n",
    "        dj_db = 0\n",
    "        \n",
    "        for i in range(self.m[0]):\n",
    "            y_hat = self.w*self.x_train[i]+self.b\n",
    "            dj_dw_i = (y_hat-self.y_train[i])*self.x_train[i]\n",
    "            dj_db_i = (y_hat-self.y_train[i])\n",
    "            dj_dw = dj_dw+dj_dw_i\n",
    "            dj_db = dj_db+dj_db_i\n",
    "            \n",
    "        dj_dw = dj_dw/self.m\n",
    "        dj_db = dj_db/self.m\n",
    "        \n",
    "        return dj_dw,dj_db\n",
    "    \n",
    "    def gradientDescent(self):\n",
    "        \n",
    "        for i in range(self.iters):\n",
    "            dj_dw,dj_db = self.compute_gradient()\n",
    "            self.w = self.w - self.alpha*dj_dw\n",
    "            self.b = self.b - self.alpha*dj_db\n",
    "            \n",
    "        print(\"w = \",self.w)\n",
    "        print(\"b = \",self.b)\n",
    "        \n",
    "    def predict(self,x_value):\n",
    "        return self.w*x_value + self.b"
   ]
  },
  {
   "cell_type": "code",
   "execution_count": 9,
   "id": "bd5af132",
   "metadata": {},
   "outputs": [
    {
     "name": "stdout",
     "output_type": "stream",
     "text": [
      "D:\\Data.csv\n",
      "   size  price\n",
      "0     1    300\n",
      "1     2    500\n",
      "size\n",
      "price\n",
      "[1 2]\n",
      "[300 500]\n",
      "(2,)\n",
      "w =  [199.99285075]\n",
      "b =  [100.01156773]\n"
     ]
    }
   ],
   "source": [
    "Model = UnivariateLinearRegression(\"D:\\Data.csv\",1.0e-2,10000)"
   ]
  },
  {
   "cell_type": "code",
   "execution_count": 10,
   "id": "f001664a",
   "metadata": {},
   "outputs": [
    {
     "name": "stdout",
     "output_type": "stream",
     "text": [
      "[699.99011998]\n"
     ]
    }
   ],
   "source": [
    "y_value = Model.predict(3)\n",
    "print(y_value)"
   ]
  },
  {
   "cell_type": "code",
   "execution_count": null,
   "id": "574b3e85",
   "metadata": {},
   "outputs": [],
   "source": []
  },
  {
   "cell_type": "code",
   "execution_count": null,
   "id": "033b1514",
   "metadata": {},
   "outputs": [],
   "source": []
  }
 ],
 "metadata": {
  "kernelspec": {
   "display_name": "Python 3 (ipykernel)",
   "language": "python",
   "name": "python3"
  },
  "language_info": {
   "codemirror_mode": {
    "name": "ipython",
    "version": 3
   },
   "file_extension": ".py",
   "mimetype": "text/x-python",
   "name": "python",
   "nbconvert_exporter": "python",
   "pygments_lexer": "ipython3",
   "version": "3.9.13"
  }
 },
 "nbformat": 4,
 "nbformat_minor": 5
}
